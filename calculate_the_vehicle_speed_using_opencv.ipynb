{
 "cells": [
  {
   "cell_type": "code",
   "execution_count": 1,
   "metadata": {},
   "outputs": [],
   "source": [
    "import cv2\n",
    "import time"
   ]
  },
  {
   "cell_type": "code",
   "execution_count": 2,
   "metadata": {},
   "outputs": [
    {
     "name": "stdout",
     "output_type": "stream",
     "text": [
      "Car Number 1 Speed: 2.779651116954689 KM/H \n",
      "Car Number 2 Speed: 2.76042585347819 KM/H \n"
     ]
    }
   ],
   "source": [
    "cascade_src = 'files/cars1.xml'\n",
    "video_src = 'videos/video3.mp4'\n",
    "#line a\n",
    "ax1 = 70\n",
    "ay = 90\n",
    "ax2 = 230\n",
    "#line b\n",
    "bx1 = 15\n",
    "by = 125\n",
    "bx2 = 225\n",
    "\n",
    "def Speed_Cal(time):\n",
    "    try:\n",
    "        Speed = (9.144/1000)/(time/3600)\n",
    "        return Speed\n",
    "    except ZeroDivisionError:\n",
    "        print(\"can not devide by zero\")\n",
    "\n",
    "i =1 \n",
    "start_time = time.time()\n",
    "#video\n",
    "cap = cv2.VideoCapture(video_src)\n",
    "car_cascade = cv2.CascadeClassifier(cascade_src)\n",
    "\n",
    "while True:\n",
    "    ret,img = cap.read()\n",
    "    if(type(img)==type(None)):\n",
    "        break\n",
    "    blurred = cv2.blur(img,ksize=(15,15))\n",
    "    gray = cv2.cvtColor(blurred,cv2.COLOR_BGR2GRAY)\n",
    "    cars = car_cascade.detectMultiScale(gray,1.1,2)\n",
    "    #line a #i know road has got\n",
    "    cv2.line(img,(ax1,ay),(ax2,ay),(255,0,0),2)\n",
    "    #line b\n",
    "    cv2.line(img,(bx1,by),(bx2,by),(255,0,0),2)\n",
    "    for(x,y,w,h) in cars:\n",
    "        cv2.rectangle(img,(x,y),(x+w,y+h),(0,0,255),2)\n",
    "        cv2.circle(img,(int((x+x+w)/2),int((y+y+h)/2)),5,(0,255,0),-1)\n",
    "        while int(ay)== int((y+y+h)/2):\n",
    "            cv2.line(img,(ax1,ay),(ax2,ay),(0,255,0),2)\n",
    "            start_time = time.time()\n",
    "            break\n",
    "        while int(ay)<=int((y+y+h)/2):\n",
    "            if int(by)<=int((y+y+h)/2) & int(by+10) >= int((y+y+h)/2):\n",
    "                cv2.line(img,(bx1,by),(bx2,by),(0,255,0),2)\n",
    "                Speed = Speed_Cal(time.time()-start_time)\n",
    "                print(\"Car Number \"+str(i)+\" Speed: \"+str(Speed)+\" KM/H \")\n",
    "                i = i +1\n",
    "                break\n",
    "            else:\n",
    "                cv2.putText(img,\"Calculting\",(100,200),cv2.FONT_HERSHEY_SIMPLEX,1,(0,255,0),3)\n",
    "                break\n",
    "    cv2.imshow('video',img)\n",
    "    if cv2.waitKey(33) ==27:\n",
    "        break\n",
    "cap.release()\n",
    "cv2.destroyAllWindows()\n"
   ]
  }
 ],
 "metadata": {
  "kernelspec": {
   "display_name": "base",
   "language": "python",
   "name": "python3"
  },
  "language_info": {
   "codemirror_mode": {
    "name": "ipython",
    "version": 3
   },
   "file_extension": ".py",
   "mimetype": "text/x-python",
   "name": "python",
   "nbconvert_exporter": "python",
   "pygments_lexer": "ipython3",
   "version": "3.10.9"
  },
  "orig_nbformat": 4
 },
 "nbformat": 4,
 "nbformat_minor": 2
}
